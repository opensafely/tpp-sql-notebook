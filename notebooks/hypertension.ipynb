{
 "cells": [
  {
   "cell_type": "code",
   "execution_count": 8,
   "metadata": {},
   "outputs": [],
   "source": [
    "import pandas as pd"
   ]
  },
  {
   "cell_type": "code",
   "execution_count": 9,
   "metadata": {},
   "outputs": [],
   "source": [
    "from lib.data_gathering import search_terms_to_df"
   ]
  },
  {
   "cell_type": "code",
   "execution_count": 10,
   "metadata": {},
   "outputs": [],
   "source": [
    "qof = pd.read_csv('../data/QoFClusteres_CTV3Codes - Sheet1.csv')"
   ]
  },
  {
   "cell_type": "code",
   "execution_count": 12,
   "metadata": {},
   "outputs": [
    {
     "data": {
      "text/html": [
       "<div>\n",
       "<style scoped>\n",
       "    .dataframe tbody tr th:only-of-type {\n",
       "        vertical-align: middle;\n",
       "    }\n",
       "\n",
       "    .dataframe tbody tr th {\n",
       "        vertical-align: top;\n",
       "    }\n",
       "\n",
       "    .dataframe thead th {\n",
       "        text-align: right;\n",
       "    }\n",
       "</style>\n",
       "<table border=\"1\" class=\"dataframe\">\n",
       "  <thead>\n",
       "    <tr style=\"text-align: right;\">\n",
       "      <th></th>\n",
       "      <th>ClusterId</th>\n",
       "      <th>ClusterName</th>\n",
       "      <th>CTV3Code</th>\n",
       "      <th>Description</th>\n",
       "    </tr>\n",
       "  </thead>\n",
       "  <tbody>\n",
       "    <tr>\n",
       "      <th>0</th>\n",
       "      <td>ACEDEC</td>\n",
       "      <td>Codes indicating the patient has chosen not to...</td>\n",
       "      <td>XaIIm</td>\n",
       "      <td>Angiotensin converting enzyme inhibitor declined</td>\n",
       "    </tr>\n",
       "    <tr>\n",
       "      <th>1</th>\n",
       "      <td>AFIB</td>\n",
       "      <td>Atrial fibrillation codes</td>\n",
       "      <td>G573.</td>\n",
       "      <td>Atrial fibrillation and flutter</td>\n",
       "    </tr>\n",
       "    <tr>\n",
       "      <th>2</th>\n",
       "      <td>AFIB</td>\n",
       "      <td>Atrial fibrillation codes</td>\n",
       "      <td>G5730</td>\n",
       "      <td>Atrial fibrillation</td>\n",
       "    </tr>\n",
       "    <tr>\n",
       "      <th>3</th>\n",
       "      <td>AFIB</td>\n",
       "      <td>Atrial fibrillation codes</td>\n",
       "      <td>G5731</td>\n",
       "      <td>Atrial flutter</td>\n",
       "    </tr>\n",
       "    <tr>\n",
       "      <th>4</th>\n",
       "      <td>AFIB</td>\n",
       "      <td>Atrial fibrillation codes</td>\n",
       "      <td>G573z</td>\n",
       "      <td>Atrial fibrillation and flutter NOS</td>\n",
       "    </tr>\n",
       "  </tbody>\n",
       "</table>\n",
       "</div>"
      ],
      "text/plain": [
       "  ClusterId                                        ClusterName CTV3Code  \\\n",
       "0    ACEDEC  Codes indicating the patient has chosen not to...    XaIIm   \n",
       "1      AFIB                          Atrial fibrillation codes    G573.   \n",
       "2      AFIB                          Atrial fibrillation codes    G5730   \n",
       "3      AFIB                          Atrial fibrillation codes    G5731   \n",
       "4      AFIB                          Atrial fibrillation codes    G573z   \n",
       "\n",
       "                                        Description  \n",
       "0  Angiotensin converting enzyme inhibitor declined  \n",
       "1                   Atrial fibrillation and flutter  \n",
       "2                               Atrial fibrillation  \n",
       "3                                    Atrial flutter  \n",
       "4               Atrial fibrillation and flutter NOS  "
      ]
     },
     "execution_count": 12,
     "metadata": {},
     "output_type": "execute_result"
    }
   ],
   "source": [
    "qof.head()"
   ]
  },
  {
   "cell_type": "code",
   "execution_count": 13,
   "metadata": {},
   "outputs": [],
   "source": [
    "htn_list = ['HYP', 'HTMAX', 'HYP2', 'HYPEXC', 'HYPINVITE', 'HYPPCADEC', 'HYPPCAPU']"
   ]
  },
  {
   "cell_type": "code",
   "execution_count": 14,
   "metadata": {},
   "outputs": [],
   "source": [
    "htn_qof = search_terms_to_df(htn_list, col_name='ClusterId', df_name=qof)"
   ]
  },
  {
   "cell_type": "code",
   "execution_count": 15,
   "metadata": {},
   "outputs": [
    {
     "data": {
      "text/html": [
       "<div>\n",
       "<style scoped>\n",
       "    .dataframe tbody tr th:only-of-type {\n",
       "        vertical-align: middle;\n",
       "    }\n",
       "\n",
       "    .dataframe tbody tr th {\n",
       "        vertical-align: top;\n",
       "    }\n",
       "\n",
       "    .dataframe thead th {\n",
       "        text-align: right;\n",
       "    }\n",
       "</style>\n",
       "<table border=\"1\" class=\"dataframe\">\n",
       "  <thead>\n",
       "    <tr style=\"text-align: right;\">\n",
       "      <th></th>\n",
       "      <th>ClusterId</th>\n",
       "      <th>ClusterName</th>\n",
       "      <th>CTV3Code</th>\n",
       "      <th>Description</th>\n",
       "    </tr>\n",
       "  </thead>\n",
       "  <tbody>\n",
       "    <tr>\n",
       "      <th>9668</th>\n",
       "      <td>DRHYP1</td>\n",
       "      <td>Hypertension diagnosis codes</td>\n",
       "      <td>G2...</td>\n",
       "      <td>Hypertensive disease</td>\n",
       "    </tr>\n",
       "    <tr>\n",
       "      <th>9669</th>\n",
       "      <td>DRHYP1</td>\n",
       "      <td>Hypertension diagnosis codes</td>\n",
       "      <td>G200.</td>\n",
       "      <td>Malignant essential hypertension</td>\n",
       "    </tr>\n",
       "    <tr>\n",
       "      <th>9670</th>\n",
       "      <td>DRHYP1</td>\n",
       "      <td>Hypertension diagnosis codes</td>\n",
       "      <td>G201.</td>\n",
       "      <td>Benign essential hypertension</td>\n",
       "    </tr>\n",
       "    <tr>\n",
       "      <th>9671</th>\n",
       "      <td>DRHYP1</td>\n",
       "      <td>Hypertension diagnosis codes</td>\n",
       "      <td>G202.</td>\n",
       "      <td>Systolic hypertension</td>\n",
       "    </tr>\n",
       "    <tr>\n",
       "      <th>9672</th>\n",
       "      <td>DRHYP1</td>\n",
       "      <td>Hypertension diagnosis codes</td>\n",
       "      <td>G24..</td>\n",
       "      <td>Secondary hypertension</td>\n",
       "    </tr>\n",
       "  </tbody>\n",
       "</table>\n",
       "</div>"
      ],
      "text/plain": [
       "     ClusterId                   ClusterName CTV3Code  \\\n",
       "9668    DRHYP1  Hypertension diagnosis codes    G2...   \n",
       "9669    DRHYP1  Hypertension diagnosis codes    G200.   \n",
       "9670    DRHYP1  Hypertension diagnosis codes    G201.   \n",
       "9671    DRHYP1  Hypertension diagnosis codes    G202.   \n",
       "9672    DRHYP1  Hypertension diagnosis codes    G24..   \n",
       "\n",
       "                           Description  \n",
       "9668              Hypertensive disease  \n",
       "9669  Malignant essential hypertension  \n",
       "9670     Benign essential hypertension  \n",
       "9671             Systolic hypertension  \n",
       "9672            Secondary hypertension  "
      ]
     },
     "execution_count": 15,
     "metadata": {},
     "output_type": "execute_result"
    }
   ],
   "source": [
    "htn_qof.head()"
   ]
  },
  {
   "cell_type": "code",
   "execution_count": 16,
   "metadata": {},
   "outputs": [],
   "source": [
    "htn_qof.to_csv('../data/htn.csv')"
   ]
  },
  {
   "cell_type": "code",
   "execution_count": null,
   "metadata": {},
   "outputs": [],
   "source": []
  }
 ],
 "metadata": {
  "jupytext": {
   "cell_metadata_filter": "all",
   "notebook_metadata_filter": "all,-language_info",
   "text_representation": {
    "extension": ".py",
    "format_name": "light",
    "format_version": "1.5",
    "jupytext_version": "1.3.3"
   }
  },
  "kernelspec": {
   "display_name": "Python 3",
   "language": "python",
   "name": "python3"
  },
  "language_info": {
   "codemirror_mode": {
    "name": "ipython",
    "version": 3
   },
   "file_extension": ".py",
   "mimetype": "text/x-python",
   "name": "python",
   "nbconvert_exporter": "python",
   "pygments_lexer": "ipython3",
   "version": "3.8.1"
  }
 },
 "nbformat": 4,
 "nbformat_minor": 4
}
